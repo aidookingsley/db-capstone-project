{
 "cells": [
  {
   "cell_type": "code",
   "execution_count": 1,
   "id": "b871cc15",
   "metadata": {},
   "outputs": [
    {
     "name": "stdout",
     "output_type": "stream",
     "text": [
      "\u001b[33mWARNING: Skipping /usr/local/lib/python3.11/site-packages/certifi-2024.2.2.dist-info due to invalid metadata entry 'name'\u001b[0m\u001b[33m\n",
      "\u001b[0mRequirement already satisfied: mysql-connector-python in /usr/local/lib/python3.11/site-packages (8.2.0)\n",
      "Requirement already satisfied: protobuf<=4.21.12,>=4.21.1 in /usr/local/lib/python3.11/site-packages (from mysql-connector-python) (4.21.12)\n",
      "\u001b[33mWARNING: Skipping /usr/local/lib/python3.11/site-packages/certifi-2024.2.2.dist-info due to invalid metadata entry 'name'\u001b[0m\u001b[33m\n",
      "\u001b[0m"
     ]
    }
   ],
   "source": [
    "!pip install mysql-connector-python"
   ]
  },
  {
   "cell_type": "code",
   "execution_count": 2,
   "id": "341fdf7c",
   "metadata": {},
   "outputs": [
    {
     "name": "stdout",
     "output_type": "stream",
     "text": [
      "\u001b[33mWARNING: Skipping /usr/local/lib/python3.11/site-packages/certifi-2024.2.2.dist-info due to invalid metadata entry 'name'\u001b[0m\u001b[33m\n",
      "\u001b[0mRequirement already satisfied: mysql-connector-python in /usr/local/lib/python3.11/site-packages (8.2.0)\n",
      "Requirement already satisfied: protobuf<=4.21.12,>=4.21.1 in /usr/local/lib/python3.11/site-packages (from mysql-connector-python) (4.21.12)\n",
      "\u001b[33mWARNING: Skipping /usr/local/lib/python3.11/site-packages/certifi-2024.2.2.dist-info due to invalid metadata entry 'name'\u001b[0m\u001b[33m\n",
      "\u001b[0m"
     ]
    }
   ],
   "source": [
    "!pip install mysql-connector-python"
   ]
  },
  {
   "cell_type": "code",
   "execution_count": 7,
   "id": "3ed1bb6f",
   "metadata": {},
   "outputs": [
    {
     "name": "stdout",
     "output_type": "stream",
     "text": [
      "Connection between MySQL and Python is established.\n",
      "\n",
      "Cursor is created to communicate with the MySQL using Python.\n",
      "The database LittleLemonDB is set for use.\n"
     ]
    }
   ],
   "source": [
    "# Importing MySQL Connector/Python \n",
    "import mysql.connector as connector\n",
    "from mysql.connector import Error\n",
    "\n",
    "# Establishing connection between Python and MySQL database via connector API\n",
    "try:\n",
    " connection=connector.connect(user=\"root\",password=\"")\n",
    "except Error as er:\n",
    " print(er.msg)\n",
    "print(\"Connection between MySQL and Python is established.\\n\")\n",
    "\n",
    "# Creating a Cursor\n",
    "cursor = connection.cursor()\n",
    "print(\"Cursor is created to communicate with the MySQL using Python.\")\n",
    "\n",
    "# Setting the Database for use\n",
    "cursor.execute(\"USE LittleLemonDB\")\n",
    "connection.database\n",
    "print(\"The database LittleLemonDB is set for use.\")\n"
   ]
  },
  {
   "cell_type": "code",
   "execution_count": 9,
   "id": "2dcdc297",
   "metadata": {},
   "outputs": [
    {
     "name": "stdout",
     "output_type": "stream",
     "text": [
      "('Tables_in_littlelemondb',)\n",
      "('Address',)\n",
      "('Bookings',)\n",
      "('Customers',)\n",
      "('DeliveryStatus',)\n",
      "('Menu',)\n",
      "('Orders',)\n",
      "('OrdersMenu',)\n",
      "('ordersview',)\n",
      "('Staff',)\n"
     ]
    }
   ],
   "source": [
    "show_tables_query = \"SHOW TABLES;\"\n",
    "\n",
    "cursor.execute(show_tables_query)\n",
    "\n",
    "results=cursor.fetchall()\n",
    "\n",
    "columns=cursor.column_names\n",
    "print(columns)\n",
    "\n",
    "for result in results:\n",
    "  print(result)"
   ]
  },
  {
   "cell_type": "code",
   "execution_count": 12,
   "id": "fe7d17f3",
   "metadata": {},
   "outputs": [
    {
     "name": "stdout",
     "output_type": "stream",
     "text": [
      "('CustomerName', 'PhoneNumber', 'Email', 'TotalCost')\n",
      "('Priscilla Dansoa', '1112223333', 'priscilla.dansoa@email.com', Decimal('100.00'))\n",
      "('Chris William', '4445556666', 'chris.william@email.com', Decimal('80.00'))\n",
      "('Priscilla Dansoa', '1112223333', 'priscilla.dansoa@email.com', Decimal('100.00'))\n",
      "('Chris William', '4445556666', 'chris.william@email.com', Decimal('80.00'))\n",
      "('Priscilla Dansoa', '1112223333', 'priscilla.dansoa@email.com', Decimal('100.00'))\n",
      "('Chris William', '4445556666', 'chris.william@email.com', Decimal('80.00'))\n",
      "('Priscilla Dansoa', '1112223333', 'priscilla.dansoa@email.com', Decimal('100.00'))\n",
      "('Chris William', '4445556666', 'chris.william@email.com', Decimal('80.00'))\n",
      "('Priscilla Dansoa', '1112223333', 'priscilla.dansoa@email.com', Decimal('100.00'))\n",
      "('Chris William', '4445556666', 'chris.william@email.com', Decimal('80.00'))\n",
      "('Priscilla Dansoa', '1112223333', 'priscilla.dansoa@email.com', Decimal('100.00'))\n",
      "('Chris William', '4445556666', 'chris.william@email.com', Decimal('80.00'))\n",
      "The cursor is closed.\n",
      "MySQL connection is closed.\n"
     ]
    }
   ],
   "source": [
    "join_query = \"\"\" SELECT c.CustomerName,\n",
    "c.PhoneNumber,\n",
    "c.Email,\n",
    "o.TotalCost\n",
    "FROM Customers c\n",
    "LEFT JOIN Orders o\n",
    "ON c.CustomerID = o.CustomerID\n",
    "WHERE o.TotalCost > 60;\"\"\"\n",
    "\n",
    "cursor.execute(join_query)\n",
    "\n",
    "# Fetching the results in a variable called \"results\".\n",
    "results = cursor.fetchall()\n",
    "\n",
    "# Extracting the names of the columns.\n",
    "columns=cursor.column_names\n",
    "\n",
    "# Printing the names of the columns and the stored data using the \"for\" loop.\n",
    "print(columns)\n",
    "for result in results:\n",
    " print(result)\n",
    "\n",
    "# Closing the Connection between Python and MySQL database.\n",
    "if connection.is_connected():\n",
    " cursor.close()\n",
    " print(\"The cursor is closed.\")\n",
    " connection.close()\n",
    " print(\"MySQL connection is closed.\")\n",
    "else:\n",
    " print(\"Connection is already closed\")"
   ]
  },
  {
   "cell_type": "code",
   "execution_count": null,
   "id": "3e08bc87",
   "metadata": {},
   "outputs": [],
   "source": []
  }
 ],
 "metadata": {
  "kernelspec": {
   "display_name": "Python 3 (ipykernel)",
   "language": "python",
   "name": "python3"
  },
  "language_info": {
   "codemirror_mode": {
    "name": "ipython",
    "version": 3
   },
   "file_extension": ".py",
   "mimetype": "text/x-python",
   "name": "python",
   "nbconvert_exporter": "python",
   "pygments_lexer": "ipython3",
   "version": "3.10.2"
  }
 },
 "nbformat": 4,
 "nbformat_minor": 5
}
